{
 "cells": [
  {
   "cell_type": "code",
   "execution_count": 71,
   "metadata": {},
   "outputs": [
    {
     "data": {
      "image/png": "[encoded data removed]",
      "text/plain": [
       "<matplotlib.figure.Figure at 0x7fe0ae82cac8>"
      ]
     },
     "metadata": {},
     "output_type": "display_data"
    }
   ],
   "source": [
    "#test for reg.py\n",
    "import reg \n",
    "import pandas as pd\n",
    "import matplotlib.pyplot as plt\n",
    "from imp import reload\n",
    "data = pd.read_csv('ex0.txt',delimiter='\\t',header=None)\n",
    "data = data.values\n",
    "plt.scatter(data[:,1],data[:,2])\n",
    "plt.show()"
   ]
  },
  {
   "cell_type": "code",
   "execution_count": 70,
   "metadata": {},
   "outputs": [
    {
     "name": "stdout",
     "output_type": "stream",
     "text": [
      "419.9484788200435\n",
      "22.53035743844059\n",
      "1.2396937386859108\n",
      "1.3398143900969668\n",
      "87.74857910557756\n",
      "1.4770061536127859\n",
      "24.58818593225865\n",
      "1.5611075959459066\n",
      "2.157115568628401\n"
     ]
    },
    {
     "data": {
      "text/plain": [
       "OrderedDict([('spInd', 1),\n",
       "             ('spVal', 0.39435),\n",
       "             ('left',\n",
       "              OrderedDict([('spInd', 1),\n",
       "                           ('spVal', 0.19783399999999998),\n",
       "                           ('left', -0.02383815555555556),\n",
       "                           ('right', 1.0289583666666666)])),\n",
       "             ('right',\n",
       "              OrderedDict([('spInd', 1),\n",
       "                           ('spVal', 0.582002),\n",
       "                           ('left', 1.9800350714285715),\n",
       "                           ('right',\n",
       "                            OrderedDict([('spInd', 1),\n",
       "                                         ('spVal', 0.797583),\n",
       "                                         ('left', 2.9836209534883724),\n",
       "                                         ('right', 3.9871632)]))]))])"
      ]
     },
     "execution_count": 70,
     "metadata": {},
     "output_type": "execute_result"
    }
   ],
   "source": [
    "reload(reg)\n",
    "reg.create_tree(data)\n"
   ]
  }
 ],
 "metadata": {
  "kernelspec": {
   "display_name": "Python 3",
   "language": "python",
   "name": "python3"
  },
  "language_info": {
   "codemirror_mode": {
    "name": "ipython",
    "version": 3
   },
   "file_extension": ".py",
   "mimetype": "text/x-python",
   "name": "python",
   "nbconvert_exporter": "python",
   "pygments_lexer": "ipython3",
   "version": "3.6.4"
  }
 },
 "nbformat": 4,
 "nbformat_minor": 2
}
